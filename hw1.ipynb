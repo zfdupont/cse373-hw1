{
 "cells": [
  {
   "cell_type": "code",
   "execution_count": 31,
   "metadata": {},
   "outputs": [],
   "source": [
    "import matplotlib.pyplot as plt\n",
    "import numpy as np"
   ]
  },
  {
   "cell_type": "markdown",
   "metadata": {},
   "source": [
    "Let S = {(x1, y1), (x2, y2), · · · , (xn, yn)} be a set of n points where all coordinates are real numbers.\n",
    "A point (xi, yi) is called a Pareto optimal point if for every other (xj , yj ) ∈ S, at least one of the\n",
    "following two inequalities hold:\n",
    "\n",
    "x_i > x_j\n",
    "y_j > y_j"
   ]
  },
  {
   "cell_type": "markdown",
   "metadata": {},
   "source": [
    "Part A:\n",
    "Suppose that S = {(1, 2), (2, 5), (7, 3), (5, 4), (2, 4), (8, 2), (3, 6), (10, 13), (9, 6)}.\n",
    "Find all Pareto optimal points in S. Then draw a picture for those points and emphasize the\n",
    "Pareto optimal points"
   ]
  },
  {
   "cell_type": "code",
   "execution_count": 41,
   "metadata": {},
   "outputs": [
    {
     "data": {
      "text/plain": [
       "<matplotlib.collections.PathCollection at 0x7f799980f9a0>"
      ]
     },
     "execution_count": 41,
     "metadata": {},
     "output_type": "execute_result"
    },
    {
     "data": {
      "image/png": "[encoded data removed]",
      "text/plain": [
       "<Figure size 432x288 with 1 Axes>"
      ]
     },
     "metadata": {
      "needs_background": "light"
     },
     "output_type": "display_data"
    }
   ],
   "source": [
    "S = sorted([(1, 2), (2, 5), (7, 3), (5, 4), (2, 4), (8, 2), (3, 6), (10, 13), (9, 6)], key=lambda x: x[0], reverse=True) # O(n log n) -> sorting\n",
    "\n",
    "n = len(S)\n",
    "\n",
    "def find_all_points(S, n):\n",
    "    pareto_points = []\n",
    "    last_x, best_y = -1e10,-1e10\n",
    "    for _ in range(n): # O(n) -> only process each element once\n",
    "        x,y = S.pop(0) \n",
    "        if y > best_y and x != last_x: \n",
    "            pareto_points.append((x,y))\n",
    "            best_y = y\n",
    "        last_x = x\n",
    "    return pareto_points\n",
    "\n",
    "solution = find_all_points(S[:],n)\n",
    "plt.scatter(list(i[0] for i in S), list(i[1] for i in S), color='black')\n",
    "plt.scatter(list(i[0] for i in solution), list(i[1] for i in solution), color='yellow')"
   ]
  },
  {
   "cell_type": "markdown",
   "metadata": {},
   "source": [
    "If we are interested in finding only one Pareto optimal point in S, could you\n",
    "design a worst-case O (n)-time algorithm to find it? You must include an analysis of the\n",
    "O (n) running time of your algorithm."
   ]
  },
  {
   "cell_type": "code",
   "execution_count": 33,
   "metadata": {},
   "outputs": [],
   "source": [
    "def find_one_point(S):\n",
    "    n = len(S)\n",
    "    # find the point with the largest x value\n",
    "    best = (-1e6, 0)\n",
    "    for x,y in S: # O(n) -> only process each element once\n",
    "        if x > best[0]:\n",
    "            best = x,y\n",
    "    return best"
   ]
  },
  {
   "cell_type": "markdown",
   "metadata": {},
   "source": [
    "If the points in S are not sorted but each point has a unique x coordinate,\n",
    "could you design a worst-case O (n log n)-time algorithm to find all Pareto optimal points in\n",
    "S? You must include an analysis of the running time of your algorithm."
   ]
  },
  {
   "cell_type": "code",
   "execution_count": 47,
   "metadata": {},
   "outputs": [
    {
     "name": "stdout",
     "output_type": "stream",
     "text": [
      "[(9, 6), (8, 2), (7, 3), (6, 13), (5, 4), (4, 4), (3, 6), (2, 5), (1, 2)]\n",
      "[(9, 6), (6, 13)]\n",
      "False\n"
     ]
    },
    {
     "data": {
      "text/plain": [
       "<matplotlib.collections.PathCollection at 0x7f7999a31250>"
      ]
     },
     "execution_count": 47,
     "metadata": {},
     "output_type": "execute_result"
    },
    {
     "data": {
      "image/png": "[encoded data removed]",
      "text/plain": [
       "<Figure size 432x288 with 1 Axes>"
      ]
     },
     "metadata": {
      "needs_background": "light"
     },
     "output_type": "display_data"
    }
   ],
   "source": [
    "\n",
    "S = [(1, 2), (2, 5), (7, 3), (5, 4), (4, 4), (8, 2), (3, 6), (6, 13), (9, 6)]\n",
    "def find_all_points_unique_x(S, n):\n",
    "    S.sort(reverse=True, key=lambda x: x[0])\n",
    "    print(S)\n",
    "    pareto_points = []\n",
    "    best_y = -1e10\n",
    "    for _ in range(n):\n",
    "        x,y = S.pop(0)\n",
    "        if y > best_y:\n",
    "            pareto_points.append((x,y))\n",
    "            best_y = y\n",
    "    return pareto_points\n",
    "    \n",
    "\n",
    "\n",
    "solution = find_all_points_unique_x(S[:], len(S))\n",
    "print(solution)\n",
    "\n",
    "\n",
    "print(solution == find_all_points(S[:], len(S)))\n",
    "plt.scatter(list(i[0] for i in S), list(i[1] for i in S), color='black')\n",
    "plt.scatter(list(i[0] for i in solution), list(i[1] for i in solution), color='yellow')"
   ]
  }
 ],
 "metadata": {
  "kernelspec": {
   "display_name": "Python 3.9.7 ('base')",
   "language": "python",
   "name": "python3"
  },
  "language_info": {
   "codemirror_mode": {
    "name": "ipython",
    "version": 3
   },
   "file_extension": ".py",
   "mimetype": "text/x-python",
   "name": "python",
   "nbconvert_exporter": "python",
   "pygments_lexer": "ipython3",
   "version": "3.9.7"
  },
  "orig_nbformat": 4,
  "vscode": {
   "interpreter": {
    "hash": "38cca0c38332a56087b24af0bc80247f4fced29cb4f7f437d91dc159adec9c4e"
   }
  }
 },
 "nbformat": 4,
 "nbformat_minor": 2
}
